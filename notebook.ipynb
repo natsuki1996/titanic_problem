{
  "cells": [
    {
      "metadata": {
        "_uuid": "a84191fdf9a4e029cf8e7deae63a02f68ebb5eda",
        "_cell_guid": "78b4a18b-75af-48ab-a318-9fbb0de91076",
        "trusted": false,
        "collapsed": true
      },
      "cell_type": "code",
      "source": "import numpy as np\nimport pandas as pd\nimport matplotlib.pyplot as plt\nfrom sklearn.ensemble import RandomForestClassifier\nfrom sklearn.svm import SVC\nfrom sklearn.grid_search import GridSearchCV",
      "execution_count": 46,
      "outputs": []
    },
    {
      "metadata": {
        "_uuid": "19ef61d66ac4b60dd714b4082f075de0865b6dd6",
        "collapsed": true,
        "_cell_guid": "2c881f26-8a6a-4285-b5da-cc65c2849874",
        "trusted": false
      },
      "cell_type": "code",
      "source": "#データ読み込み\ntrain = pd.read_csv('../input/train.csv')\ntest  = pd.read_csv('../input/test.csv')\nfull_data = [train, test]",
      "execution_count": 47,
      "outputs": []
    },
    {
      "metadata": {
        "_uuid": "cad4de03061c6ccb3cc7885d543bdaa9787a1cac",
        "_cell_guid": "177b80f4-c55c-4737-bfb9-c152aac81ca8",
        "trusted": false,
        "collapsed": true
      },
      "cell_type": "code",
      "source": "print(train.isnull().sum())\nprint('_'*40)\nprint(test.isnull().sum())",
      "execution_count": 48,
      "outputs": []
    },
    {
      "metadata": {
        "_uuid": "f5014acf97c7bb897563d0be82ac549b8cf2fd25",
        "_kg_hide-output": false,
        "_cell_guid": "473ab80e-cfb2-4a79-9069-1bff6b82dc47",
        "_kg_hide-input": false,
        "trusted": false,
        "collapsed": true
      },
      "cell_type": "code",
      "source": "#データ整形\nPassengerId = test['PassengerId']\n\nfor dataset in full_data:\n    dataset['Has_Cabin'] = dataset[\"Cabin\"].apply(lambda x: 0 if type(x) == float else 1)\n    \n    dataset['FamilySize'] = dataset['SibSp'] + dataset['Parch'] + 1\n    \n    dataset['IsAlone'] = 0\n    dataset.loc[dataset['FamilySize'] == 1, 'IsAlone'] = 1\n    \n    dataset['Sex'] = dataset['Sex'].replace(['male', 'female'], [0, 1])\n    \n    master_ave = dataset.loc[dataset.Name.str.contains('Master'), 'Age'].mean()\n    mr_ave = dataset.loc[dataset.Name.str.contains('Mr'), 'Age'].mean() \n    miss_ave = dataset.loc[dataset.Name.str.contains('Miss'), 'Age'].mean() \n    mrs_ave = dataset.loc[dataset.Name.str.contains('Mrs'), 'Age'].mean() \n    dataset.loc[dataset.Name.str.contains('Mraster') & dataset.Age.isnull(), 'Age'] = master_ave\n    dataset.loc[dataset.Name.str.contains('Mr') & dataset.Age.isnull(), 'Age'] = mr_ave\n    dataset.loc[dataset.Name.str.contains('Miss') & dataset.Age.isnull(), 'Age'] = miss_ave\n    dataset.loc[dataset.Name.str.contains('Mrs') & dataset.Age.isnull(), 'Age'] = mrs_ave\n    dataset['Age'] = dataset['Age'].fillna(dataset['Age'].mean())\n    \n    dataset.loc[ dataset['Age'] <= 16, 'Age']                          = 0\n    dataset.loc[(dataset['Age'] > 16) & (dataset['Age'] <= 32), 'Age'] = 1\n    dataset.loc[(dataset['Age'] > 32) & (dataset['Age'] <= 48), 'Age'] = 2\n    dataset.loc[(dataset['Age'] > 48) & (dataset['Age'] <= 64), 'Age'] = 3\n    dataset.loc[ dataset['Age'] > 64, 'Age']                           = 4\n    \n    dataset['Fare'] = dataset['Fare'].fillna(dataset['Fare'].mean())\n    dataset.loc[ dataset['Fare'] <= 7.91, 'Fare']                               = 0\n    dataset.loc[(dataset['Fare'] > 7.91) & (dataset['Fare'] <= 14.454), 'Fare'] = 1\n    dataset.loc[(dataset['Fare'] > 14.454) & (dataset['Fare'] <= 31), 'Fare']   = 2\n    dataset.loc[ dataset['Fare'] > 31, 'Fare']                                  = 3\n    dataset['Fare'] = dataset['Fare'].astype(int)\n    \n    dataset['Embarked'] = dataset['Embarked'].fillna('S')\n    dataset['Embarked'] = dataset['Embarked'].map( {'S': 0, 'C': 1, 'Q': 2} ).astype(int)\n    \n    dataset.drop(['PassengerId', 'Name', 'Ticket', 'Cabin'], axis=1, inplace=True)\ntrain.head()",
      "execution_count": 49,
      "outputs": []
    },
    {
      "metadata": {
        "_uuid": "1451bb0c52a192fe0413088adf54fd588b083f8f",
        "_cell_guid": "e870e1a4-27fe-435c-b7e8-6a609f92ddb5",
        "trusted": false,
        "collapsed": true
      },
      "cell_type": "code",
      "source": "print(train.isnull().sum())\nprint('_'*40)\nprint(test.isnull().sum())",
      "execution_count": 50,
      "outputs": []
    },
    {
      "metadata": {
        "_uuid": "e14f111debef33b1fe500a921ec5b819f354bd4e",
        "collapsed": true,
        "_cell_guid": "ceda1525-c87c-44c2-8d38-be996e70ef7f",
        "trusted": false
      },
      "cell_type": "code",
      "source": "#x,yに分割\nx = train.copy()\nx.drop(['Survived'], axis=1, inplace=True)\ny = train.copy()\ny = y['Survived']",
      "execution_count": 51,
      "outputs": []
    },
    {
      "metadata": {
        "_uuid": "1dd3c28ad547e4c37136b4d275028a0eccac16b0",
        "_cell_guid": "a4ab3d1d-058e-4609-acf3-dd29c363c081",
        "trusted": false,
        "collapsed": true
      },
      "cell_type": "code",
      "source": "#学習\nmodel = RandomForestClassifier(max_depth = 10,\n                               max_features =10,\n                               min_samples_split = 15,\n                               n_estimators = 10,\n                               n_jobs = 1,\n                               random_state = 0)\nmodel.fit(x, y)\n\n#予測\noutput = model.predict(test)\n\n#正答率\nmodel.score(x, y)",
      "execution_count": 52,
      "outputs": []
    },
    {
      "metadata": {
        "_uuid": "4b44aef541f6fcbd23c255ffdc0a00fc7d2787f2",
        "collapsed": true,
        "_cell_guid": "da3ae705-c669-4305-9b6c-b7b2df101ef6",
        "trusted": false
      },
      "cell_type": "code",
      "source": "# 提出用\ndf_out = pd.DataFrame({ 'PassengerId': PassengerId,\n                        'Survived':    output })\ndf_out.to_csv(\"submission.csv\", index=False)",
      "execution_count": 53,
      "outputs": []
    }
  ],
  "metadata": {
    "language_info": {
      "codemirror_mode": {
        "version": 3,
        "name": "ipython"
      },
      "name": "python",
      "file_extension": ".py",
      "version": "3.6.3",
      "nbconvert_exporter": "python",
      "pygments_lexer": "ipython3",
      "mimetype": "text/x-python"
    },
    "kernelspec": {
      "display_name": "Python 3",
      "language": "python",
      "name": "python3"
    }
  },
  "nbformat": 4,
  "nbformat_minor": 1
}